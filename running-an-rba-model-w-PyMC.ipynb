{
 "cells": [
  {
   "cell_type": "markdown",
   "metadata": {},
   "source": [
    "# running RBA model in python using PyMC\n",
    "\n",
    "A notebook to run an RBA on fMRI data.  \n",
    "OHBM Brainhack 2022 project  \n",
    "\n",
    "Authors:  \n",
    "Gang Chen, Christopher Nolan, Kelly Garner, [insert extra names here]\n",
    "\n",
    "- this code assumes that first-level analysis is complete  \n",
    "- data is structured in the format: subject | ROI | y | x  \n",
    "- x = predictor variable (in this example a theory of mind score)  \n",
    "- y = DV of interest from first level analysis - e.g. mu beta coefficient from region of interest (ROI) "
   ]
  },
  {
   "cell_type": "markdown",
   "metadata": {},
   "source": [
    "## load required modules"
   ]
  },
  {
   "cell_type": "code",
   "execution_count": null,
   "metadata": {
    "vscode": {
     "languageId": "plaintext"
    }
   },
   "outputs": [],
   "source": [
    "import arviz as az\n",
    "import matplotlib.pyplot as plt\n",
    "import numpy as np\n",
    "import pandas as pd\n",
    "import pymc3 as pm\n",
    "import xarray as xr"
   ]
  },
  {
   "cell_type": "markdown",
   "metadata": {},
   "source": [
    "First we load the data:"
   ]
  },
  {
   "cell_type": "code",
   "execution_count": null,
   "metadata": {
    "vscode": {
     "languageId": "plaintext"
    }
   },
   "outputs": [],
   "source": []
  }
 ],
 "metadata": {
  "language_info": {
   "name": "python"
  },
  "orig_nbformat": 4
 },
 "nbformat": 4,
 "nbformat_minor": 2
}
