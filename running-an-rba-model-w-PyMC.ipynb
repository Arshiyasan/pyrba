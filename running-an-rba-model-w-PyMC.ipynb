{
 "cells": [
  {
   "cell_type": "markdown",
   "metadata": {},
   "source": [
    "# running RBA model in python using PyMC\n",
    "\n",
    "A notebook to run an RBA on fMRI data.  \n",
    "OHBM Brainhack 2022 project  \n",
    "\n",
    "Authors:  \n",
    "Gang Chen, Christopher Nolan, Kelly Garner, [insert extra names here]\n",
    "\n",
    "- this code assumes that first-level analysis is complete  \n",
    "- data is structured in the format: subject | ROI | y | x  \n",
    "- x = predictor variable (in this example a theory of mind score)  \n",
    "- y = DV of interest from first level analysis - e.g. mu beta coefficient from region of interest (ROI) "
   ]
  },
  {
   "cell_type": "markdown",
   "metadata": {},
   "source": [
    "## load required modules"
   ]
  },
  {
   "cell_type": "code",
   "execution_count": null,
   "metadata": {},
   "outputs": [],
   "source": [
    "import arviz as az\n",
    "import matplotlib.pyplot as plt\n",
    "import numpy as np\n",
    "import pandas as pd\n",
    "import pymc as pm\n",
    "import xarray as xr\n",
    "import bambi as bmb"
   ]
  },
  {
   "cell_type": "markdown",
   "metadata": {},
   "source": [
    "## Next we load the data:"
   ]
  },
  {
   "cell_type": "code",
   "execution_count": null,
   "metadata": {},
   "outputs": [],
   "source": [
    "df = pd.read_csv('data.txt', delimiter = '\\s')\n",
    "df.head(5)"
   ]
  },
  {
   "cell_type": "markdown",
   "metadata": {},
   "source": [
    "Next we define the model:"
   ]
  },
  {
   "cell_type": "code",
   "execution_count": null,
   "metadata": {},
   "outputs": [],
   "source": [
    "model = bmb.Model(\"y ~ x + (1|subject) + (x|ROI)\", data=df)\n",
    "fitted = model.fit(draws=1000, chains=4, method='nuts_numpyro')"
   ]
  }
 ],
 "metadata": {
  "interpreter": {
   "hash": "95259738a94fadfb9c6d8d90e5e59da053d9447eca1336664fb8ce3011d95d00"
  },
  "kernelspec": {
   "display_name": "Python 3.10.5 ('pyrba')",
   "language": "python",
   "name": "python3"
  },
  "language_info": {
   "codemirror_mode": {
    "name": "ipython",
    "version": 3
   },
   "file_extension": ".py",
   "mimetype": "text/x-python",
   "name": "python",
   "nbconvert_exporter": "python",
   "pygments_lexer": "ipython3",
   "version": "3.10.5"
  },
  "orig_nbformat": 4
 },
 "nbformat": 4,
 "nbformat_minor": 2
}
